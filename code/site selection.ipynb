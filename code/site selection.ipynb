{
 "cells": [
  {
   "cell_type": "code",
   "execution_count": 48,
   "id": "d3cfa18e",
   "metadata": {},
   "outputs": [],
   "source": [
    "import pandas as pd\n",
    "import geopandas as gpd\n",
    "from shapely.geometry import Point\n",
    "import glob,os\n",
    "from shapely.ops import nearest_points\n",
    "from shapely.ops import unary_union"
   ]
  },
  {
   "cell_type": "code",
   "execution_count": 161,
   "id": "2ad0e30f",
   "metadata": {},
   "outputs": [],
   "source": [
    "import geopandas as gpd\n",
    "from geopy.distance import geodesic\n",
    "\n",
    "# Load the GeoDataFrame with your points\n",
    "gdf = gpd.read_file('C:/Users/anranzheng/Dropbox (UFL)/Mobility Hub/Data/arcgis online/selected_center.shp')"
   ]
  },
  {
   "cell_type": "code",
   "execution_count": 162,
   "id": "b83ba75a",
   "metadata": {},
   "outputs": [
    {
     "data": {
      "text/plain": [
       "Index(['index', 'inner_micr', 'Route', 'total_trip', 'Total_Acti', 'W_C_TOTAL',\n",
       "       'BIKE_TOTAL', 'inner_scoo', 'RENT_', 'bike', 'bike_osm', 'sidewalk',\n",
       "       'sidewalk_o', 'bus_stop_n', 'Walkscore1', 'D3BMM4', 'D3BPO4', 'D5AR',\n",
       "       'D5BR', 'VEHICLE_0_', 'DIS_2064_', 'BELOW_POV_', 'BLACK_', 'fmlm_score',\n",
       "       'ridership_', 'FMLM_index', 'infast_ind', 'socio_inde', 'access_ind',\n",
       "       'score', 'fmlm_c', 'ridershi_1', 'infast_c', 'socio_c', 'access_c',\n",
       "       'ORIG_FID', 'geometry'],\n",
       "      dtype='object')"
      ]
     },
     "execution_count": 162,
     "metadata": {},
     "output_type": "execute_result"
    }
   ],
   "source": [
    "gdf.columns"
   ]
  },
  {
   "cell_type": "code",
   "execution_count": 163,
   "id": "e307fba5",
   "metadata": {},
   "outputs": [],
   "source": [
    "selected_ids = []\n",
    "\n",
    "while len(gdf) > 0:\n",
    "    #gdf = gdf.sort_values(by='score', ascending=False)\n",
    "    \n",
    "     # Find the point with the highest value\n",
    "    highest_point = gdf.loc[gdf['access_c'].idxmax()]\n",
    "\n",
    "    # Store its ID in the list\n",
    "    selected_ids.append(highest_point['index'])\n",
    "\n",
    "    # Select the point for which you want to calculate distances (e.g., the first point)\n",
    "    point_to_measure = highest_point['geometry']\n",
    "\n",
    "    # Create an empty list to store distances\n",
    "    distances = []\n",
    "\n",
    "    # Loop through all the points in the GeoDataFrame\n",
    "    for _, row in gdf.iterrows():\n",
    "        # Calculate the distance between the selected point and the current point\n",
    "        \n",
    "        dist = distance.euclidean(\n",
    "       (point_to_measure.x, point_to_measure.y),\n",
    "        (row.geometry.x, row.geometry.y))\n",
    "        distances.append(dist)\n",
    "\n",
    "    # Add the distances as a new column in the GeoDataFrame\n",
    "    gdf['distance_to_point'] = distances\n",
    "    \n",
    "    #eculidan distance - 0.5 mile\n",
    "    gdf=gdf[gdf['distance_to_point']>=0.0155]\n",
    "    \n",
    "    #print(len(gdf))"
   ]
  },
  {
   "cell_type": "code",
   "execution_count": 164,
   "id": "891bdf4f",
   "metadata": {},
   "outputs": [
    {
     "data": {
      "text/plain": [
       "40"
      ]
     },
     "execution_count": 164,
     "metadata": {},
     "output_type": "execute_result"
    }
   ],
   "source": [
    "len(selected_ids)"
   ]
  },
  {
   "cell_type": "code",
   "execution_count": 165,
   "id": "2ee1cc12",
   "metadata": {},
   "outputs": [],
   "source": [
    "gdf2 = gpd.read_file('C:/Users/anranzheng/Dropbox (UFL)/Mobility Hub/Anran/module builder/results/more_criteria/new_criteria_buffer.shp')"
   ]
  },
  {
   "cell_type": "code",
   "execution_count": 166,
   "id": "ffde4240",
   "metadata": {},
   "outputs": [],
   "source": [
    "gdf2[gdf2['index'].isin(selected_ids)].to_file('C:/Users/anranzheng/Dropbox (UFL)/Mobility Hub/Data/results/code_updated_results/access.shp')"
   ]
  },
  {
   "cell_type": "code",
   "execution_count": null,
   "id": "fcb0cec5",
   "metadata": {},
   "outputs": [],
   "source": []
  },
  {
   "cell_type": "code",
   "execution_count": null,
   "id": "0a17f8f8",
   "metadata": {},
   "outputs": [],
   "source": []
  }
 ],
 "metadata": {
  "kernelspec": {
   "display_name": "Python 3 (ipykernel)",
   "language": "python",
   "name": "python3"
  },
  "language_info": {
   "codemirror_mode": {
    "name": "ipython",
    "version": 3
   },
   "file_extension": ".py",
   "mimetype": "text/x-python",
   "name": "python",
   "nbconvert_exporter": "python",
   "pygments_lexer": "ipython3",
   "version": "3.11.0"
  }
 },
 "nbformat": 4,
 "nbformat_minor": 5
}
